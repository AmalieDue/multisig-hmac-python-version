{
 "cells": [
  {
   "cell_type": "code",
   "execution_count": null,
   "metadata": {},
   "outputs": [],
   "source": [
    "from multisig-hmac.multisig_hmac import MultisigHMAC\n",
    "\n",
    "# Example\n",
    "m = MultisigHMAC()\n",
    "\n",
    "k0 = m.keygen(0)\n",
    "k1 = m.keygen(1)\n",
    "k2 = m.keygen(2)\n",
    "k3 = m.keygen(3)\n",
    "k4 = m.keygen(4)\n",
    "\n",
    "data = b'Hello world'\n",
    "\n",
    "s0 = m.sign(k0, data)\n",
    "s1 = m.sign(k1, data)\n",
    "s2 = m.sign(k2, data)\n",
    "s3 = m.sign(k3, data)\n",
    "s4 = m.sign(k4, data)\n",
    "\n",
    "out = m.combine([s1,s3,s4])\n",
    "\n",
    "sent = (out[0], base64.urlsafe_b64encode(out[1]))\n",
    "\n",
    "# --- network ---\n",
    "\n",
    "received = (sent[0], base64.urlsafe_b64decode(sent[1]))\n",
    "\n",
    "threshold = 3\n",
    "keys = [k0, k1, k2, k3, k4]\n",
    "signature = received\n",
    "\n",
    "m.verify(keys, signature, data, threshold)\n"
   ]
  }
 ],
 "metadata": {
  "kernelspec": {
   "display_name": "Python 3",
   "language": "python",
   "name": "python3"
  },
  "language_info": {
   "codemirror_mode": {
    "name": "ipython",
    "version": 3
   },
   "file_extension": ".py",
   "mimetype": "text/x-python",
   "name": "python",
   "nbconvert_exporter": "python",
   "pygments_lexer": "ipython3",
   "version": "3.7.4"
  }
 },
 "nbformat": 4,
 "nbformat_minor": 2
}
